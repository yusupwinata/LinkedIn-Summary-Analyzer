{
 "cells": [
  {
   "cell_type": "markdown",
   "id": "c7611dd9-639b-4f58-8231-1ec51f9822f9",
   "metadata": {},
   "source": [
    "# Import Packages"
   ]
  },
  {
   "cell_type": "code",
   "execution_count": 107,
   "id": "1bf8c0a4-c145-478b-9be2-4dfaa8a30a43",
   "metadata": {},
   "outputs": [],
   "source": [
    "import requests\n",
    "import time\n",
    "import ollama\n",
    "from openai import OpenAI\n",
    "from selenium.webdriver import Chrome\n",
    "from selenium.webdriver.chrome.options import Options\n",
    "from selenium.webdriver.common.by import By\n",
    "from selenium.webdriver.support.ui import WebDriverWait\n",
    "from selenium.webdriver.support import expected_conditions as EC\n",
    "from IPython.display import Markdown, display\n",
    "\n",
    "import credentials"
   ]
  },
  {
   "cell_type": "markdown",
   "id": "16c9f8ab-8ce5-484b-9f44-4df8fb3c3482",
   "metadata": {},
   "source": [
    "# Data Scraping"
   ]
  },
  {
   "cell_type": "code",
   "execution_count": 73,
   "id": "0b005991-8bb0-4739-8055-b9b76f4f07c1",
   "metadata": {},
   "outputs": [],
   "source": [
    "USERNAME = credentials.credentials.username\n",
    "PASSWORD = credentials.credentials.password\n",
    "\n",
    "LINKEDIN_LOGIN = \"https://www.linkedin.com/login\"\n",
    "\n",
    "profile_urls = [\"https://www.linkedin.com/in/yusup-winata/\", \"https://www.linkedin.com/in/firlyana-9099a3265/\"]"
   ]
  },
  {
   "cell_type": "code",
   "execution_count": 78,
   "id": "0cd76d71-26be-41a2-9573-1146a96f3b10",
   "metadata": {},
   "outputs": [
    {
     "name": "stdout",
     "output_type": "stream",
     "text": [
      "Sign-in to LinkedIn\n",
      "Successfully login to LinkedIn\n",
      "\n",
      "Scraping https://www.linkedin.com/in/yusup-winata/\n",
      "Name: Yusup Hidayat Winata\n",
      "Summary: A passionate Artificial Intelligence & Machine Learning Enthusiast with more than 2 years of experience in AI and ML development, mentorship, and program management. Skilled in building and deploying AI models, conducting research, and developing user-friendly applications. Proficient in various ML techniques, including classification, regression, clustering, NLP, and Computer Vision, with a strong foundation in Deep Learning and Python. Committed to continuous learning and leveraging AI to solve real-world problems.\n",
      "\n",
      "Scraping https://www.linkedin.com/in/firlyana-9099a3265/\n",
      "Name: Firlyana .\n",
      "Summary: I have experience working in insurance companies and insurance brokers\n"
     ]
    }
   ],
   "source": [
    "chrome_options = Options()\n",
    "chrome_options.add_argument(\"--headless\")\n",
    "driver = Chrome(options=chrome_options)\n",
    "\n",
    "profile_names = []\n",
    "profile_summaries = []\n",
    "\n",
    "# Login\n",
    "print(\"Sign-in to LinkedIn\")\n",
    "driver.get(LINKEDIN_LOGIN)\n",
    "WebDriverWait(driver, 10).until(EC.presence_of_element_located((By.ID, \"username\"))).send_keys(USERNAME)\n",
    "driver.find_element(By.ID, \"password\").send_keys(PASSWORD)\n",
    "driver.find_element(By.XPATH, \"//button[@type='submit']\").click()\n",
    "WebDriverWait(driver, 10).until(EC.presence_of_element_located((By.TAG_NAME, \"title\")))\n",
    "print(f\"Successfully login to LinkedIn\")\n",
    "\n",
    "# Scrap profile summary\n",
    "for url in profile_urls:\n",
    "    print(f\"\\nScraping {url}\")\n",
    "    driver.get(url)\n",
    "\n",
    "    profile_xpath = \"//h1[contains(@class, 'inline') and contains(@class, 'v-align-middle')]\"\n",
    "    profile_name = WebDriverWait(driver, 10).until(EC.presence_of_element_located((By.XPATH, profile_xpath)))\n",
    "    print(f\"Name: {profile_name.text}\")\n",
    "    profile_names.append(profile_name.text)\n",
    "    \n",
    "    summary_xpath = \"//div[contains(@class, 'display-flex') and contains(@class, 'ph5')]//span[@aria-hidden='true']\"\n",
    "    profile_summary = WebDriverWait(driver, 10).until(EC.presence_of_element_located((By.XPATH, summary_xpath)))\n",
    "    print(f\"Summary: {profile_summary.text}\")\n",
    "    profile_summaries.append(profile_summary.text)\n",
    "    \n",
    "driver.quit()"
   ]
  },
  {
   "cell_type": "markdown",
   "id": "344db7d3-bfb7-4618-a242-e35444cedb62",
   "metadata": {},
   "source": [
    "# Prepare Model and Prompt\n",
    "\n",
    "**Note:** Need to install ollama and llama3.2 first."
   ]
  },
  {
   "cell_type": "code",
   "execution_count": 82,
   "id": "20cff74c-7703-4abd-ac9c-64aeceb7d5e8",
   "metadata": {},
   "outputs": [
    {
     "name": "stdout",
     "output_type": "stream",
     "text": [
      "NAME                ID              SIZE      MODIFIED    \n",
      "llama3.2:latest     a80c4f17acd5    2.0 GB    2 hours ago    \n",
      "deepseek-r1:1.5b    a42b25d8c10a    1.1 GB    3 hours ago    \n",
      "tinyllama:latest    2644915ede35    637 MB    4 hours ago    \n"
     ]
    }
   ],
   "source": [
    "!ollama list"
   ]
  },
  {
   "cell_type": "code",
   "execution_count": 85,
   "id": "9c60d96e-7ee7-42b7-a95e-f01fb30c4af2",
   "metadata": {},
   "outputs": [
    {
     "name": "stderr",
     "output_type": "stream",
     "text": [
      "\u001b[?2026h\u001b[?25l\u001b[1Gpulling manifest â ‹ \u001b[K\u001b[?25h\u001b[?2026l\u001b[?2026h\u001b[?25l\u001b[1Gpulling manifest â ™ \u001b[K\u001b[?25h\u001b[?2026l\u001b[?2026h\u001b[?25l\u001b[1Gpulling manifest â ¹ \u001b[K\u001b[?25h\u001b[?2026l\u001b[?2026h\u001b[?25l\u001b[1Gpulling manifest â ¸ \u001b[K\u001b[?25h\u001b[?2026l\u001b[?2026h\u001b[?25l\u001b[1Gpulling manifest â ¼ \u001b[K\u001b[?25h\u001b[?2026l\u001b[?2026h\u001b[?25l\u001b[1Gpulling manifest â ´ \u001b[K\u001b[?25h\u001b[?2026l\u001b[?2026h\u001b[?25l\u001b[1Gpulling manifest â ¦ \u001b[K\u001b[?25h\u001b[?2026l\u001b[?2026h\u001b[?25l\u001b[1Gpulling manifest â § \u001b[K\u001b[?25h\u001b[?2026l\u001b[?2026h\u001b[?25l\u001b[1Gpulling manifest \u001b[K\n",
      "pulling dde5aa3fc5ff... 100% â–•â–ˆâ–ˆâ–ˆâ–ˆâ–ˆâ–ˆâ–ˆâ–ˆâ–ˆâ–ˆâ–ˆâ–ˆâ–ˆâ–ˆâ–ˆâ–ˆâ–� 2.0 GB                         \u001b[K\n",
      "pulling 966de95ca8a6... 100% â–•â–ˆâ–ˆâ–ˆâ–ˆâ–ˆâ–ˆâ–ˆâ–ˆâ–ˆâ–ˆâ–ˆâ–ˆâ–ˆâ–ˆâ–ˆâ–ˆâ–� 1.4 KB                         \u001b[K\n",
      "pulling fcc5a6bec9da... 100% â–•â–ˆâ–ˆâ–ˆâ–ˆâ–ˆâ–ˆâ–ˆâ–ˆâ–ˆâ–ˆâ–ˆâ–ˆâ–ˆâ–ˆâ–ˆâ–ˆâ–� 7.7 KB                         \u001b[K\n",
      "pulling a70ff7e570d9... 100% â–•â–ˆâ–ˆâ–ˆâ–ˆâ–ˆâ–ˆâ–ˆâ–ˆâ–ˆâ–ˆâ–ˆâ–ˆâ–ˆâ–ˆâ–ˆâ–ˆâ–� 6.0 KB                         \u001b[K\n",
      "pulling 56bb8bd477a5... 100% â–•â–ˆâ–ˆâ–ˆâ–ˆâ–ˆâ–ˆâ–ˆâ–ˆâ–ˆâ–ˆâ–ˆâ–ˆâ–ˆâ–ˆâ–ˆâ–ˆâ–�   96 B                         \u001b[K\n",
      "pulling 34bb5ab01051... 100% â–•â–ˆâ–ˆâ–ˆâ–ˆâ–ˆâ–ˆâ–ˆâ–ˆâ–ˆâ–ˆâ–ˆâ–ˆâ–ˆâ–ˆâ–ˆâ–ˆâ–�  561 B                         \u001b[K\n",
      "verifying sha256 digest \u001b[K\n",
      "writing manifest \u001b[K\n",
      "success \u001b[K\u001b[?25h\u001b[?2026l\n"
     ]
    }
   ],
   "source": [
    "!ollama pull llama3.2"
   ]
  },
  {
   "cell_type": "code",
   "execution_count": 108,
   "id": "222117d4-16d6-4ce4-9782-ce7df529dc7d",
   "metadata": {},
   "outputs": [],
   "source": [
    "BASE_URL = \"http://localhost:11434/v1\"\n",
    "API_KEY = \"ollama\"\n",
    "MODEL = \"llama3.2\"\n",
    "\n",
    "ollama_openai = OpenAI(api_key=API_KEY, base_url=BASE_URL)\n",
    "\n",
    "system_prompt = \"You are an assistant that analyzes the summary of a LinkedIn profile and provides constructive feedbacks. Respond in markdown.\"\n",
    "\n",
    "def create_user_prompt(profile_name, profile_summary, system_prompt=system_prompt):\n",
    "    user_prompt = system_prompt\n",
    "    user_prompt += f\"\\n\\nNow you are looking at {profile_name}'s LinkedIn profile summary.\"\n",
    "    user_prompt += \"\\nThe summary as follows; please provide constructive feedbacks for the summary.\\n\\n\"\n",
    "    user_prompt += profile_summary\n",
    "    return user_prompt\n",
    "\n",
    "def create_messages(profile_name, profile_summary):\n",
    "    return [{\"role\": \"user\",\n",
    "             \"content\": create_user_prompt(profile_name, profile_summary)}]\n",
    "\n",
    "def get_feedback(profile_name, profile_summary, model=MODEL):\n",
    "    feedback = ollama_openai.chat.completions.create(model=model, messages=create_messages(profile_name, profile_summary))\n",
    "    return feedback.choices[0].message.content\n",
    "\n",
    "def display_feedback(profile_name, profile_summary):\n",
    "    feedback = get_feedback(profile_name, profile_summary)\n",
    "    display(Markdown(feedback))"
   ]
  },
  {
   "cell_type": "markdown",
   "id": "956bb987-9789-4810-b75e-c66bf8e0a535",
   "metadata": {},
   "source": [
    "# Prompting"
   ]
  },
  {
   "cell_type": "code",
   "execution_count": 116,
   "id": "65590d50-530f-49ae-bca8-f11526d6c429",
   "metadata": {},
   "outputs": [
    {
     "data": {
      "text/markdown": [
       "**Summary Feedback for Yusup Hidayat Winata's LinkedIn Profile**\n",
       "\n",
       "### Strengths:\n",
       "\n",
       "*   The summary clearly states your passion for Artificial Intelligence (AI) and Machine Learning (ML), which is a great starting point.\n",
       "*   You've highlighted your experience in AI and ML development, mentorship, and program management.\n",
       "*   Your proficiency in various ML techniques and Python skills are well-represented.\n",
       "\n",
       "### Suggestions:\n",
       "\n",
       "*   **Make it more specific**: While \"building and deploying AI models\" and \"developing user-friendly applications\" are mentioned, consider adding more concrete examples or projects that showcase your practical experience.\n",
       "*   **Use action verbs consistently**: Use active voice throughout the summary to create a more engaging tone.\n",
       "*   **Quantify accomplishments**: Adding metrics (e.g., \"improved model accuracy by \\[X%]\") can demonstrate the impact of your work and make it more interesting.\n",
       "*   **Emphasize soft skills**: In addition to technical expertise, highlight any relevant collaboration or project management experience that can benefit future employers.\n",
       "*   **Professional tone and clarity**: Reedit for clarity and concise statements.\n",
       "\n",
       "### Example Revamped Summary\n",
       "\n",
       "\"I'm a passionate AI & Machine Learning enthusiast with  [number] years of experience driving solutions. I've successfully developed and deployed multiple AI models, improving user engagement by \\[X%]. \n",
       "\n",
       "Proficient in key techniques like Deep Learning, classification, regression, clustering, NLP, and computer vision using Python, backed by strong foundational knowledge.\""
      ],
      "text/plain": [
       "<IPython.core.display.Markdown object>"
      ]
     },
     "metadata": {},
     "output_type": "display_data"
    },
    {
     "name": "stdout",
     "output_type": "stream",
     "text": [
      "====================================================================================================\n"
     ]
    },
    {
     "data": {
      "text/markdown": [
       "**Summary Feedback**\n",
       "===============\n",
       "\n",
       "**Overall Assessment**\n",
       "--------------------\n",
       "\n",
       "Firlyana's summary is brief, but it could be more informative and engaging. The current statement only mentions her work experience, which doesn't give a clear idea of her value proposition or what sets her apart from others in the industry.\n",
       "\n",
       "**Suggestions for Improvement**\n",
       "-----------------------------\n",
       "\n",
       "* Instead of just listing her job roles (insurance companies and insurance brokers), provide specific examples or accomplishments that demonstrate her expertise in this field.\n",
       "* Consider adding a brief description of how she contributes to organizations, such as \"results-driven professional with a proven track record of driving business growth\" or \"strategic partner with excellent communication skills.\"\n",
       "* Think about highlighting any notable certifications, awards, or recognition Firlyana has received, as these can add credibility to her summary.\n",
       "* Use action verbs like \"managed,\" \"created,\" \"developed,\" or \"improved\" to describe her experiences and achievements.\n",
       "\n",
       "**Revised Summary Example**\n",
       "---------------------------\n",
       "\n",
       "\"As a seasoned insurance professional with 5+ years of experience in the industry, I've developed a deep understanding of the market and a proven track record of driving business growth through strategic partnerships and innovative solutions. Most recently, I've served as a key account manager at XYZ Insurance Company, where I successfully managed a portfolio of high-profile clients and expanded the company's reach into new markets.\""
      ],
      "text/plain": [
       "<IPython.core.display.Markdown object>"
      ]
     },
     "metadata": {},
     "output_type": "display_data"
    },
    {
     "name": "stdout",
     "output_type": "stream",
     "text": [
      "====================================================================================================\n"
     ]
    }
   ],
   "source": [
    "for profile_name, profile_summary in zip(profile_names, profile_summaries):\n",
    "    display_feedback(profile_name, profile_summary)\n",
    "    print(100*\"=\")"
   ]
  },
  {
   "cell_type": "code",
   "execution_count": null,
   "id": "166a4628-826d-4ee8-b1dc-cf09afe79024",
   "metadata": {},
   "outputs": [],
   "source": []
  }
 ],
 "metadata": {
  "kernelspec": {
   "display_name": "llms",
   "language": "python",
   "name": "llms"
  },
  "language_info": {
   "codemirror_mode": {
    "name": "ipython",
    "version": 3
   },
   "file_extension": ".py",
   "mimetype": "text/x-python",
   "name": "python",
   "nbconvert_exporter": "python",
   "pygments_lexer": "ipython3",
   "version": "3.11.12"
  }
 },
 "nbformat": 4,
 "nbformat_minor": 5
}
